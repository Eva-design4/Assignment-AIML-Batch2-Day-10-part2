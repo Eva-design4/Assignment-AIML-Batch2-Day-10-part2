{
 "cells": [
  {
   "cell_type": "markdown",
   "metadata": {},
   "source": [
    "# Pandas"
   ]
  },
  {
   "cell_type": "markdown",
   "metadata": {},
   "source": [
    "# Question 1"
   ]
  },
  {
   "cell_type": "markdown",
   "metadata": {},
   "source": [
    "Write a pandas program to create and display a Dataframe from a specified dictionary data which has the index labels."
   ]
  },
  {
   "cell_type": "markdown",
   "metadata": {},
   "source": [
    "fruits_data1 = {\"fruits\":[\"Banana\",\"Pineapple\",\"Kiwi\",\"Orange\"],\"status\":[\"ripe\",\"unripe\",np.nan,\"unripe\"]}\n",
    "Labels=[20.15,30,np.nan,40]"
   ]
  },
  {
   "cell_type": "code",
   "execution_count": 10,
   "metadata": {},
   "outputs": [
    {
     "name": "stdout",
     "output_type": "stream",
     "text": [
      "      fruits  status\n",
      "a     Banana    ripe\n",
      "b  Pineapple  unripe\n",
      "c       Kiwi     NaN\n",
      "d     Orange  unripe\n"
     ]
    }
   ],
   "source": [
    "import pandas as pd\n",
    "import numpy as np \n",
    "\n",
    "fruits_data1 = {\"fruits\":[\"Banana\",\"Pineapple\",\"Kiwi\",\"Orange\"],\"status\":[\"ripe\",\"unripe\",np.nan,\"unripe\"]}\n",
    "Labels= [\"a\",\"b\",\"c\",\"d\"]\n",
    "\n",
    "df = pd.DataFrame(fruits_data, index= Labels)\n",
    "print(df)"
   ]
  },
  {
   "cell_type": "markdown",
   "metadata": {},
   "source": [
    "# Question 2 "
   ]
  },
  {
   "cell_type": "markdown",
   "metadata": {},
   "source": [
    "Write a pandas program to select the name and status columns from the following DataFrame"
   ]
  },
  {
   "cell_type": "markdown",
   "metadata": {},
   "source": [
    "fruits_data2 = {\"fruits\":[\"Pawpaw\",\"Apples\",\"Grapes\",\"Pears\"],\"status\":[\"ripe\",\"unripe\",np.nan,\"unripe\"]}\n",
    "Labels=[\"a\",\"b\",\"c\",\"d\"]"
   ]
  },
  {
   "cell_type": "code",
   "execution_count": 11,
   "metadata": {},
   "outputs": [
    {
     "name": "stdout",
     "output_type": "stream",
     "text": [
      "select specific Columns:\n",
      "      fruits  status\n",
      "a     Banana    ripe\n",
      "b  Pineapple  unripe\n",
      "c       Kiwi     NaN\n",
      "d     Orange  unripe\n"
     ]
    }
   ],
   "source": [
    "fruits_data2 = {\"fruits\":[\"Pawpaw\",\"Apples\",\"Grapes\",\"Pears\"],\"status\":[\"ripe\",\"unripe\",np.nan,\"unripe\"]}\n",
    "Labels= [\"a\",\"b\",\"c\",\"d\"]\n",
    "\n",
    "df = pd.DataFrame(fruits_data,index = Labels)\n",
    "print(\"select specific Columns:\")\n",
    "print(df[[\"fruits\",\"status\"]])\n"
   ]
  },
  {
   "cell_type": "markdown",
   "metadata": {},
   "source": [
    "# Question 3"
   ]
  },
  {
   "cell_type": "markdown",
   "metadata": {},
   "source": [
    "Write a Pandas program to join the two given DataFrames along rows and assign all data."
   ]
  },
  {
   "cell_type": "code",
   "execution_count": 17,
   "metadata": {
    "scrolled": true
   },
   "outputs": [
    {
     "name": "stdout",
     "output_type": "stream",
     "text": [
      "      fruits  status  prices\n",
      "0     Banana    ripe      10\n",
      "1  Pineapple  unripe      30\n",
      "2       Kiwi     NaN      40\n",
      "3     Orange  unripe      29\n",
      "----------------------------\n",
      "   fruits  status  prices\n",
      "0  Pawpaw    ripe      20\n",
      "1  Apples  unripe      30\n",
      "2  Grapes     NaN      45\n",
      "3   Pears  unripe      65\n",
      "\n",
      "Join the two dataframes along rows:\n",
      "      fruits  status  prices\n",
      "0     Banana    ripe      10\n",
      "1  Pineapple  unripe      30\n",
      "2       Kiwi     NaN      40\n",
      "3     Orange  unripe      29\n",
      "0     Pawpaw    ripe      20\n",
      "1     Apples  unripe      30\n",
      "2     Grapes     NaN      45\n",
      "3      Pears  unripe      65\n"
     ]
    }
   ],
   "source": [
    "import pandas as pd\n",
    "fruits_data1 =pd.DataFrame ({\"fruits\":[\"Banana\",\"Pineapple\",\"Kiwi\",\"Orange\"],\"status\":[\"ripe\",\"unripe\",np.nan,\"unripe\"],\"prices\":\n",
    "[10,30,40,29]})\n",
    "\n",
    "fruits_data2 =pd.DataFrame({\"fruits\":[\"Pawpaw\",\"Apples\",\"Grapes\",\"Pears\"],\"status\":[\"ripe\",\"unripe\",np.nan,\"unripe\"],\n",
    "\"prices\":[20,30,45,65,]})\n",
    "\n",
    "print(fruits_data1)\n",
    "print(\"----------------------------\")\n",
    "print(fruits_data2)\n",
    "print(\"\\nJoin the two dataframes along rows:\")\n",
    "res_data = pd.concat([fruits_data1, fruits_data2])\n",
    "(print(res_data))"
   ]
  },
  {
   "cell_type": "markdown",
   "metadata": {},
   "source": [
    "# Question 4"
   ]
  },
  {
   "cell_type": "markdown",
   "metadata": {},
   "source": [
    "Write a Pandas program to detect missing values of a given DataFrame,Display True or False."
   ]
  },
  {
   "cell_type": "raw",
   "metadata": {},
   "source": [
    "     fruits  status  prices\n",
    "0     Banana    ripe      10\n",
    "1  Pineapple  unripe      30\n",
    "2       Kiwi     NaN      40\n",
    "3     Orange  unripe      29\n",
    "0     Pawpaw    ripe      20\n",
    "1     Apples  unripe      30\n",
    "2     Grapes     NaN      45\n",
    "3      Pears  unripe      65"
   ]
  },
  {
   "cell_type": "code",
   "execution_count": 3,
   "metadata": {},
   "outputs": [
    {
     "name": "stdout",
     "output_type": "stream",
     "text": [
      "original orders of DataFrame:\n",
      "      fruits  status  prices\n",
      "0     Banana    ripe      10\n",
      "1  Pineapple  unripe      30\n",
      "2       Kiwi     NaN      40\n",
      "3     Orange  unripe      29\n",
      "4     Pawpaw    ripe      20\n",
      "5     Apples  unripe      30\n",
      "6     Grapes     NaN      45\n",
      "7      Pears  unripe      65\n",
      "\n",
      "Missing values of the dataframe:\n",
      "   fruits  status  prices\n",
      "0   False   False   False\n",
      "1   False   False   False\n",
      "2   False    True   False\n",
      "3   False   False   False\n",
      "4   False   False   False\n",
      "5   False   False   False\n",
      "6   False    True   False\n",
      "7   False   False   False\n"
     ]
    }
   ],
   "source": [
    "import pandas as pd \n",
    "import numpy as np\n",
    "\n",
    "pd.set_option('display.max_rows',None)\n",
    "df = pd.DataFrame({\"fruits\":[\"Banana\",\"Pineapple\",\"Kiwi\",\"Orange\",\"Pawpaw\",\"Apples\",\"Grapes\",\"Pears\" ],\"status\":[\"ripe\",\"unripe\",np.nan,\"unripe\",\"ripe\",\"unripe\",np.nan,\"unripe\"],\n",
    "\"prices\":[10,30,40,29,20,30,45,65]})\n",
    "print(\"original orders of DataFrame:\")\n",
    "print(df)\n",
    "print(\"\\nMissing values of the dataframe:\")\n",
    "print(df.isna())"
   ]
  },
  {
   "cell_type": "markdown",
   "metadata": {},
   "source": [
    "# Question 5"
   ]
  },
  {
   "cell_type": "markdown",
   "metadata": {},
   "source": [
    "Write a Pandas program to create and display a one- dimensional array-like object containing an array of data\n"
   ]
  },
  {
   "cell_type": "code",
   "execution_count": 2,
   "metadata": {},
   "outputs": [
    {
     "name": "stdout",
     "output_type": "stream",
     "text": [
      "0    3\n",
      "1    4\n",
      "2    6\n",
      "3    7\n",
      "4    8\n",
      "5    9\n",
      "dtype: int64\n"
     ]
    }
   ],
   "source": [
    "import pandas as pd\n",
    "df = pd.Series([3,4,6,7,8,9])\n",
    "print(df)"
   ]
  },
  {
   "cell_type": "code",
   "execution_count": null,
   "metadata": {},
   "outputs": [],
   "source": []
  }
 ],
 "metadata": {
  "kernelspec": {
   "display_name": "Python 3",
   "language": "python",
   "name": "python3"
  },
  "language_info": {
   "codemirror_mode": {
    "name": "ipython",
    "version": 3
   },
   "file_extension": ".py",
   "mimetype": "text/x-python",
   "name": "python",
   "nbconvert_exporter": "python",
   "pygments_lexer": "ipython3",
   "version": "3.7.6"
  }
 },
 "nbformat": 4,
 "nbformat_minor": 4
}
